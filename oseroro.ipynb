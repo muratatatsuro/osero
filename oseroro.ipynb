{
 "cells": [
  {
   "cell_type": "code",
   "execution_count": 7,
   "metadata": {},
   "outputs": [
    {
     "name": "stdout",
     "output_type": "stream",
     "text": [
      "==0 step==\n",
      "[['*' '*' '*' '*' '*' '*' '*' '*']\n",
      " ['*' '*' '*' '*' '*' '*' '*' '*']\n",
      " ['*' '*' '*' '*' '*' '*' '*' '*']\n",
      " ['*' '*' '*' '○' '●' '*' '*' '*']\n",
      " ['*' '*' '*' '●' '○' '*' '*' '*']\n",
      " ['*' '*' '*' '*' '*' '*' '*' '*']\n",
      " ['*' '*' '*' '*' '*' '*' '*' '*']\n",
      " ['*' '*' '*' '*' '*' '*' '*' '*']]\n",
      "[[ 0.  0.  0.  0.  0.  0.  0.  0.]\n",
      " [ 0.  0.  0.  0.  0.  0.  0.  0.]\n",
      " [ 0.  0.  0.  0.  0.  0.  0.  0.]\n",
      " [ 0.  0.  0.  1.  2.  0.  0.  0.]\n",
      " [ 0.  0.  0.  2.  1.  0.  0.  0.]\n",
      " [ 0.  0.  0.  0.  0.  0.  0.  0.]\n",
      " [ 0.  0.  0.  0.  0.  0.  0.  0.]\n",
      " [ 0.  0.  0.  0.  0.  0.  0.  0.]]\n",
      "==winner determination==\n",
      "on drow\n",
      "==player==\n",
      "black\n",
      "2 3\n",
      "False\n",
      "==1 step==\n",
      "[['*' '*' '*' '*' '*' '*' '*' '*']\n",
      " ['*' '*' '*' '*' '*' '*' '*' '*']\n",
      " ['*' '*' '*' '●' '*' '*' '*' '*']\n",
      " ['*' '*' '*' '●' '●' '*' '*' '*']\n",
      " ['*' '*' '*' '●' '○' '*' '*' '*']\n",
      " ['*' '*' '*' '*' '*' '*' '*' '*']\n",
      " ['*' '*' '*' '*' '*' '*' '*' '*']\n",
      " ['*' '*' '*' '*' '*' '*' '*' '*']]\n",
      "[[ 0.  0.  0.  0.  0.  0.  0.  0.]\n",
      " [ 0.  0.  0.  0.  0.  0.  0.  0.]\n",
      " [ 0.  0.  0.  2.  0.  0.  0.  0.]\n",
      " [ 0.  0.  0.  2.  2.  0.  0.  0.]\n",
      " [ 0.  0.  0.  2.  1.  0.  0.  0.]\n",
      " [ 0.  0.  0.  0.  0.  0.  0.  0.]\n",
      " [ 0.  0.  0.  0.  0.  0.  0.  0.]\n",
      " [ 0.  0.  0.  0.  0.  0.  0.  0.]]\n",
      "==winner determination==\n",
      "winner:black\n",
      "==player==\n",
      "white\n",
      "3 2\n",
      "False\n"
     ]
    }
   ],
   "source": [
    "import numpy as np\n",
    "import random\n",
    "\n",
    "class osero():\n",
    "    def __init__(self):\n",
    "        self.n_rows=8\n",
    "        self.n_cols=8\n",
    "        self.cells=np.zeros((self.n_rows,self.n_cols))\n",
    "        self.blank=0\n",
    "        self.white=1\n",
    "        self.black=2\n",
    "        \n",
    "        self.cells[3][3]=self.white\n",
    "        self.cells[3][4]=self.black\n",
    "        self.cells[4][3]=self.black\n",
    "        self.cells[4][4]=self.white\n",
    "        \n",
    "    def flip_able_man(self,now_state,current_player):\n",
    "        self.now_state=now_state\n",
    "        self.current_player=current_player\n",
    "        dir_list=[-1,0,1]\n",
    "        self.flip_able=[]\n",
    "        for dx in dir_list:\n",
    "            for dy in dir_list:\n",
    "                temp=[]\n",
    "                depth=0\n",
    "                while True:\n",
    "                    depth+=1\n",
    "                    rx=self.now_state[0]+dx*depth\n",
    "                    ry=self.now_state[1]+dy*depth\n",
    "                    \n",
    "                    if 0<=rx<8 and 0<=ry<8:\n",
    "                        piece=self.cells[rx][ry]\n",
    "                        \n",
    "                        if piece==self.blank:\n",
    "                            break\n",
    "                        elif piece==self.current_player:\n",
    "                            if temp!=[]:\n",
    "                                self.flip_able.extend(temp)\n",
    "                        else:\n",
    "                            temp.append([rx,ry])\n",
    "                    else:\n",
    "                        break\n",
    "        return self.flip_able\n",
    "    \n",
    "    def flip(self):\n",
    "        for i in range(len(self.flip_able)):\n",
    "            self.cells[self.flip_able[i][0]][self.flip_able[i][1]]=self.current_player\n",
    "            \n",
    "        self.cells[self.now_state[0]][self.now_state[1]]=self.current_player\n",
    "        return self.cells\n",
    "    \n",
    "    def show_board(self):\n",
    "        self.board=[]\n",
    "        for i in range(self.n_rows):\n",
    "            for j in range(self.n_cols):\n",
    "                pi=self.cells[i][j]\n",
    "                if pi==self.blank:\n",
    "                    self.board.append('*')\n",
    "                elif pi==self.white:\n",
    "                    self.board.append('○')\n",
    "                else:\n",
    "                    self.board.append('●')\n",
    "                    \n",
    "        self.board=np.array(self.board).reshape(self.n_rows,self.n_cols)\n",
    "        print(self.board)\n",
    "        \n",
    "    def End(self,player):\n",
    "        self.possible=[]\n",
    "        for i in range(self.n_rows):\n",
    "            for j in range(self.n_cols):\n",
    "                pi=self.cells[i][j]\n",
    "                if pi!=self.blank:\n",
    "                    if pi!=player:\n",
    "                        self.possible.append([i,j])\n",
    "        if len(self.possible)==0:\n",
    "            return True\n",
    "        else:\n",
    "            return False\n",
    "        \n",
    "    def player_change(self,player):\n",
    "        if player==self.white:\n",
    "            return self.black\n",
    "        else:\n",
    "            return self.white\n",
    "        \n",
    "    def winner(self):\n",
    "        color_white=0\n",
    "        color_black=0\n",
    "        for i in range(self.n_rows):\n",
    "            for j in range(self.n_cols):\n",
    "                if self.cells[i][j]==self.white:\n",
    "                    color_white+=1\n",
    "                elif self.cells[i][j]==self.black:\n",
    "                    color_black+=1\n",
    "                else:\n",
    "                    color_white+=0\n",
    "                    color_black+=0\n",
    "            \n",
    "        if color_white>color_black:\n",
    "            print('winner:white')\n",
    "        elif color_white==color_black:\n",
    "            print('on drow')\n",
    "        else:\n",
    "            print('winner:black')\n",
    "            \n",
    "    def show_index(self):\n",
    "        def index_to_axis(index):\n",
    "            r=int(index/8)\n",
    "            c=index%8\n",
    "            return [r,c]\n",
    "        index_list=list(np.arange(0,self.n_rows*self.n_cols))\n",
    "        axis_list=[]\n",
    "        \n",
    "        for i in range(0,self.n_rows*self.n_cols,self.n_rows):\n",
    "            ind=index_list[i:i+self.n_rows]\n",
    "            bb=[]\n",
    "            for j in range(len(ind)):\n",
    "                bb.append(index_to_axis(ind[j]))\n",
    "            axis_list.append(bb)\n",
    "            \n",
    "        for i in range(self.n_rows):\n",
    "            print(axis_list[i])\n",
    "            \n",
    "    def get_enables(self,color):\n",
    "        \"\"\"置ける位置のリストを返す関数\"\"\"\n",
    "        result=[]\n",
    "        enable_actions=np.arange(0,self.n_rows*self.n_cols)\n",
    "        for action in enable_actions:\n",
    "            r,c=self.index2axis(action)\n",
    "            if self.cells[r][c]==self.blank:\n",
    "                if len(self.possible)>0:\n",
    "                    result.append([r,c])\n",
    "        return result\n",
    "            \n",
    "            \n",
    "            \n",
    "    def index2axis(self,index):\n",
    "        r=int(index/8)\n",
    "        c=index%8\n",
    "        return r,c\n",
    "            \n",
    "\n",
    "\n",
    "#オセロゲーム\n",
    "count=0\n",
    "max_number=2 #64\n",
    "player=2\n",
    "osero=osero()\n",
    "while count<max_number:\n",
    "    print('==%d step=='%count)\n",
    "    osero.show_board()\n",
    "    print(osero.cells)\n",
    "    print('==winner determination==')\n",
    "    osero.winner()\n",
    "    print('==player==')\n",
    "    print('white'if player==1 else 'black')\n",
    "    index=list(map(int,input().split()))\n",
    "    osero.flip_able_man(index,player)\n",
    "    osero.flip()\n",
    "    print(osero.End(player))\n",
    "    player=osero.player_change(player)\n",
    "    count+=1\n",
    "    "
   ]
  },
  {
   "cell_type": "code",
   "execution_count": null,
   "metadata": {
    "collapsed": true
   },
   "outputs": [],
   "source": [
    "## print('==%d step=='%count)\n",
    "osero.show_board()\n",
    "print('==winner determination==')\n",
    "osero.winner()\n",
    "print('player:','white'if player==1 else 'black')\n",
    "osero.flip_able_man([2,2],player)\n",
    "osero.flip()\n",
    "player=osero.player_change(player)\n",
    "count+=1"
   ]
  },
  {
   "cell_type": "code",
   "execution_count": 34,
   "metadata": {},
   "outputs": [
    {
     "name": "stdout",
     "output_type": "stream",
     "text": [
      "==2 step==\n",
      "[['*' '*' '*' '*' '*' '*' '*' '*']\n",
      " ['*' '*' '*' '*' '*' '*' '*' '*']\n",
      " ['*' '*' '○' '●' '*' '*' '*' '*']\n",
      " ['*' '*' '*' '○' '●' '*' '*' '*']\n",
      " ['*' '*' '*' '●' '○' '*' '*' '*']\n",
      " ['*' '*' '*' '*' '*' '*' '*' '*']\n",
      " ['*' '*' '*' '*' '*' '*' '*' '*']\n",
      " ['*' '*' '*' '*' '*' '*' '*' '*']]\n",
      "==winner determination==\n",
      "on drow\n",
      "player: black\n"
     ]
    }
   ],
   "source": [
    "print('==%d step=='%count)\n",
    "osero.show_board()\n",
    "print('==winner determination==')\n",
    "osero.winner()\n",
    "print('player:','white'if player==1 else 'black')"
   ]
  },
  {
   "cell_type": "code",
   "execution_count": 35,
   "metadata": {
    "collapsed": true
   },
   "outputs": [],
   "source": [
    "osero.flip_able_man([5,4],player)\n",
    "osero.flip()\n",
    "player=osero.player_change(player)\n",
    "count+=1"
   ]
  },
  {
   "cell_type": "code",
   "execution_count": 36,
   "metadata": {},
   "outputs": [
    {
     "name": "stdout",
     "output_type": "stream",
     "text": [
      "==3 step==\n",
      "[['*' '*' '*' '*' '*' '*' '*' '*']\n",
      " ['*' '*' '*' '*' '*' '*' '*' '*']\n",
      " ['*' '*' '○' '●' '*' '*' '*' '*']\n",
      " ['*' '*' '*' '○' '●' '*' '*' '*']\n",
      " ['*' '*' '*' '●' '●' '*' '*' '*']\n",
      " ['*' '*' '*' '*' '●' '*' '*' '*']\n",
      " ['*' '*' '*' '*' '*' '*' '*' '*']\n",
      " ['*' '*' '*' '*' '*' '*' '*' '*']]\n",
      "==winner determination==\n",
      "winner:black\n",
      "player: white\n"
     ]
    }
   ],
   "source": [
    "print('==%d step=='%count)\n",
    "osero.show_board()\n",
    "print('==winner determination==')\n",
    "osero.winner()\n",
    "print('player:','white'if player==1 else 'black')"
   ]
  },
  {
   "cell_type": "code",
   "execution_count": 37,
   "metadata": {
    "collapsed": true
   },
   "outputs": [],
   "source": [
    "osero.flip_able_man([3,5],player)\n",
    "osero.flip()\n",
    "player=osero.player_change(player)\n",
    "count+=1"
   ]
  },
  {
   "cell_type": "code",
   "execution_count": 38,
   "metadata": {},
   "outputs": [
    {
     "name": "stdout",
     "output_type": "stream",
     "text": [
      "==4 step==\n",
      "[['*' '*' '*' '*' '*' '*' '*' '*']\n",
      " ['*' '*' '*' '*' '*' '*' '*' '*']\n",
      " ['*' '*' '○' '●' '*' '*' '*' '*']\n",
      " ['*' '*' '*' '○' '○' '○' '*' '*']\n",
      " ['*' '*' '*' '●' '●' '*' '*' '*']\n",
      " ['*' '*' '*' '*' '●' '*' '*' '*']\n",
      " ['*' '*' '*' '*' '*' '*' '*' '*']\n",
      " ['*' '*' '*' '*' '*' '*' '*' '*']]\n",
      "==winner determination==\n",
      "on drow\n",
      "player: black\n"
     ]
    }
   ],
   "source": [
    "print('==%d step=='%count)\n",
    "osero.show_board()\n",
    "print('==winner determination==')\n",
    "osero.winner()\n",
    "print('player:','white'if player==1 else 'black')"
   ]
  },
  {
   "cell_type": "code",
   "execution_count": 39,
   "metadata": {
    "collapsed": true
   },
   "outputs": [],
   "source": [
    "osero.flip_able_man([3,6],player)\n",
    "osero.flip()\n",
    "player=osero.player_change(player)\n",
    "count+=1"
   ]
  },
  {
   "cell_type": "code",
   "execution_count": 40,
   "metadata": {},
   "outputs": [
    {
     "name": "stdout",
     "output_type": "stream",
     "text": [
      "==5 step==\n",
      "[['*' '*' '*' '*' '*' '*' '*' '*']\n",
      " ['*' '*' '*' '*' '*' '*' '*' '*']\n",
      " ['*' '*' '○' '●' '*' '*' '*' '*']\n",
      " ['*' '*' '*' '○' '○' '○' '●' '*']\n",
      " ['*' '*' '*' '●' '●' '*' '*' '*']\n",
      " ['*' '*' '*' '*' '●' '*' '*' '*']\n",
      " ['*' '*' '*' '*' '*' '*' '*' '*']\n",
      " ['*' '*' '*' '*' '*' '*' '*' '*']]\n",
      "==winner determination==\n",
      "winner:black\n",
      "player: white\n"
     ]
    }
   ],
   "source": [
    "print('==%d step=='%count)\n",
    "osero.show_board()\n",
    "print('==winner determination==')\n",
    "osero.winner()\n",
    "print('player:','white'if player==1 else 'black')"
   ]
  },
  {
   "cell_type": "code",
   "execution_count": null,
   "metadata": {
    "collapsed": true
   },
   "outputs": [],
   "source": []
  }
 ],
 "metadata": {
  "kernelspec": {
   "display_name": "Python 3",
   "language": "python",
   "name": "python3"
  },
  "language_info": {
   "codemirror_mode": {
    "name": "ipython",
    "version": 3
   },
   "file_extension": ".py",
   "mimetype": "text/x-python",
   "name": "python",
   "nbconvert_exporter": "python",
   "pygments_lexer": "ipython3",
   "version": "3.6.3"
  }
 },
 "nbformat": 4,
 "nbformat_minor": 2
}
